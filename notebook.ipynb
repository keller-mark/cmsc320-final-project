{
 "cells": [
  {
   "cell_type": "markdown",
   "metadata": {},
   "source": [
    "# Final Project Title Here\n",
    "### Subtitle Here\n",
    "\n",
    "Mark Keller<br>\n",
    "CMSC320<br>\n",
    "Final Tutorial Project<br>\n",
    "29 November 2018"
   ]
  },
  {
   "cell_type": "markdown",
   "metadata": {},
   "source": [
    "#### Table of Contents\n",
    "1. [Introduction](#Introduction)\n",
    "2. [Data](#Data)\n",
    "3. [Exploration](#Exploration)\n",
    "4. Regression Analysis\n",
    "5. Classification Analysis\n",
    "6. Conclusions\n",
    "7. Caveats\n"
   ]
  },
  {
   "cell_type": "markdown",
   "metadata": {},
   "source": [
    "## Introduction"
   ]
  },
  {
   "cell_type": "markdown",
   "metadata": {},
   "source": [
    "For the past few weeks, the Camp Fire in Northern California has been a deadly and destructive force, recieving enormous media coverage. \n",
    "This deadly wildfire that began on November 8, 2018 has left [85 people dead, 249 missing, and destroyed thousands of buildings](https://www.usatoday.com/story/news/nation/2018/11/25/california-wildfire-camp-fire-contained/2107829002/).\n",
    "It has resulted in major air quality issues, causing many to [wear masks](https://www.washingtonpost.com/nation/2018/11/17/behold-latest-sign-apocalypse-air-mask-selfies-fire-ravaged-california/?utm_term=.fe6d94c1991f) or [stay indoors](https://www.wired.com/story/smoke-from-wildfires-is-a-growing-public-health-crisis-for-cities/) to protect their health.\n",
    "But this is not the first time a major wildfire has ravaged the west coast of the United States.\n",
    "\n",
    "In this tutorial, we will analyze west coast wildfire data from 2010 to 2016, available through the University of California Irvine Data Science Initiative GitHub organization [here](https://github.com/UCIDataScienceInitiative/Climate_Hackathon/tree/master/west_coast_fires). This data has been obtained through the NASA [Moderate Resolution Imaging Spectroradiometer](https://en.wikipedia.org/wiki/Moderate_Resolution_Imaging_Spectroradiometer) (MODIS) satellite. We will begin by loading the data and performing exploratory data analysis before diving deeper into regression analysis and classification analysis using basic machine learning methods. These data science methods will allow us to look at past trends and make inferences about future west coast wildfires."
   ]
  },
  {
   "cell_type": "markdown",
   "metadata": {},
   "source": [
    "<img src=\"https://www.fs.usda.gov/Internet/FSE_MEDIA/stelprdb5173318.jpg\" alt=\"Wildfire Prevention\" width=\"300\"/>"
   ]
  },
  {
   "cell_type": "markdown",
   "metadata": {},
   "source": [
    "## Data"
   ]
  },
  {
   "cell_type": "markdown",
   "metadata": {},
   "source": [
    "We will begin by importing Python packages that will help us to load and wrangle the data:\n",
    "- `pandas`: a package that allows us to build data frames, a tabular data format that can be thought of like a spreadsheet\n",
    "- `numpy`: a package containing matrix and vector mathematical functions"
   ]
  },
  {
   "cell_type": "code",
   "execution_count": 1,
   "metadata": {},
   "outputs": [],
   "source": [
    "import pandas as pd\n",
    "import numpy as np"
   ]
  },
  {
   "cell_type": "markdown",
   "metadata": {},
   "source": [
    "The wildfire dataset is contained in a comma-separated values file (CSV) located on GitHub. Pandas has a `read_csv` function that allows us to load a data frame from a CSV over the web. We will specify the data types of each column using a python `dict` to ensure that pandas loads the data using the data types that we will want to use in our analysis."
   ]
  },
  {
   "cell_type": "code",
   "execution_count": 2,
   "metadata": {},
   "outputs": [
    {
     "data": {
      "text/html": [
       "<div>\n",
       "<style scoped>\n",
       "    .dataframe tbody tr th:only-of-type {\n",
       "        vertical-align: middle;\n",
       "    }\n",
       "\n",
       "    .dataframe tbody tr th {\n",
       "        vertical-align: top;\n",
       "    }\n",
       "\n",
       "    .dataframe thead th {\n",
       "        text-align: right;\n",
       "    }\n",
       "</style>\n",
       "<table border=\"1\" class=\"dataframe\">\n",
       "  <thead>\n",
       "    <tr style=\"text-align: right;\">\n",
       "      <th></th>\n",
       "      <th>confidence</th>\n",
       "      <th>day</th>\n",
       "      <th>frp</th>\n",
       "      <th>lat</th>\n",
       "      <th>lon</th>\n",
       "      <th>month</th>\n",
       "      <th>year</th>\n",
       "      <th>x</th>\n",
       "      <th>y</th>\n",
       "      <th>dayofyear</th>\n",
       "      <th>vpd</th>\n",
       "      <th>temp</th>\n",
       "      <th>humidity</th>\n",
       "    </tr>\n",
       "    <tr>\n",
       "      <th>id</th>\n",
       "      <th></th>\n",
       "      <th></th>\n",
       "      <th></th>\n",
       "      <th></th>\n",
       "      <th></th>\n",
       "      <th></th>\n",
       "      <th></th>\n",
       "      <th></th>\n",
       "      <th></th>\n",
       "      <th></th>\n",
       "      <th></th>\n",
       "      <th></th>\n",
       "      <th></th>\n",
       "    </tr>\n",
       "  </thead>\n",
       "  <tbody>\n",
       "    <tr>\n",
       "      <th>10122</th>\n",
       "      <td>0.61</td>\n",
       "      <td>1</td>\n",
       "      <td>6.0</td>\n",
       "      <td>32.997</td>\n",
       "      <td>-110.765</td>\n",
       "      <td>1</td>\n",
       "      <td>2010</td>\n",
       "      <td>1336.853783</td>\n",
       "      <td>110.667</td>\n",
       "      <td>0</td>\n",
       "      <td>0.232254</td>\n",
       "      <td>271.10</td>\n",
       "      <td>55.8</td>\n",
       "    </tr>\n",
       "    <tr>\n",
       "      <th>10123</th>\n",
       "      <td>0.72</td>\n",
       "      <td>1</td>\n",
       "      <td>11.1</td>\n",
       "      <td>32.995</td>\n",
       "      <td>-110.777</td>\n",
       "      <td>1</td>\n",
       "      <td>2010</td>\n",
       "      <td>1335.747633</td>\n",
       "      <td>110.445</td>\n",
       "      <td>0</td>\n",
       "      <td>0.232254</td>\n",
       "      <td>271.10</td>\n",
       "      <td>55.8</td>\n",
       "    </tr>\n",
       "    <tr>\n",
       "      <th>13460</th>\n",
       "      <td>0.57</td>\n",
       "      <td>2</td>\n",
       "      <td>6.3</td>\n",
       "      <td>33.650</td>\n",
       "      <td>-113.735</td>\n",
       "      <td>1</td>\n",
       "      <td>2010</td>\n",
       "      <td>1056.936097</td>\n",
       "      <td>183.150</td>\n",
       "      <td>1</td>\n",
       "      <td>0.333371</td>\n",
       "      <td>272.70</td>\n",
       "      <td>43.6</td>\n",
       "    </tr>\n",
       "    <tr>\n",
       "      <th>13461</th>\n",
       "      <td>0.62</td>\n",
       "      <td>2</td>\n",
       "      <td>10.2</td>\n",
       "      <td>32.358</td>\n",
       "      <td>-114.922</td>\n",
       "      <td>1</td>\n",
       "      <td>2010</td>\n",
       "      <td>950.464277</td>\n",
       "      <td>39.738</td>\n",
       "      <td>1</td>\n",
       "      <td>0.158511</td>\n",
       "      <td>274.70</td>\n",
       "      <td>76.8</td>\n",
       "    </tr>\n",
       "    <tr>\n",
       "      <th>22139</th>\n",
       "      <td>0.56</td>\n",
       "      <td>3</td>\n",
       "      <td>14.4</td>\n",
       "      <td>33.415</td>\n",
       "      <td>-110.860</td>\n",
       "      <td>1</td>\n",
       "      <td>2010</td>\n",
       "      <td>1325.030866</td>\n",
       "      <td>157.065</td>\n",
       "      <td>2</td>\n",
       "      <td>0.159304</td>\n",
       "      <td>268.62</td>\n",
       "      <td>63.5</td>\n",
       "    </tr>\n",
       "  </tbody>\n",
       "</table>\n",
       "</div>"
      ],
      "text/plain": [
       "       confidence  day   frp     lat      lon  month  year            x  \\\n",
       "id                                                                        \n",
       "10122        0.61    1   6.0  32.997 -110.765      1  2010  1336.853783   \n",
       "10123        0.72    1  11.1  32.995 -110.777      1  2010  1335.747633   \n",
       "13460        0.57    2   6.3  33.650 -113.735      1  2010  1056.936097   \n",
       "13461        0.62    2  10.2  32.358 -114.922      1  2010   950.464277   \n",
       "22139        0.56    3  14.4  33.415 -110.860      1  2010  1325.030866   \n",
       "\n",
       "             y  dayofyear       vpd    temp  humidity  \n",
       "id                                                     \n",
       "10122  110.667          0  0.232254  271.10      55.8  \n",
       "10123  110.445          0  0.232254  271.10      55.8  \n",
       "13460  183.150          1  0.333371  272.70      43.6  \n",
       "13461   39.738          1  0.158511  274.70      76.8  \n",
       "22139  157.065          2  0.159304  268.62      63.5  "
      ]
     },
     "execution_count": 2,
     "metadata": {},
     "output_type": "execute_result"
    }
   ],
   "source": [
    "data_url = 'https://raw.githubusercontent.com/UCIDataScienceInitiative/Climate_Hackathon/master/west_coast_fires/fires.csv'\n",
    "dtype = {\n",
    "    'confidence': float,\n",
    "    'day': int,\n",
    "    'frp': float,\n",
    "    'lat': float,\n",
    "    'lon': float,\n",
    "    'month': int,\n",
    "    'year': int,\n",
    "    'x': float,\n",
    "    'y': float,\n",
    "    'dayofyear': int,\n",
    "    'vdp': float,\n",
    "    'temp': float,\n",
    "    'humidity': float\n",
    "}\n",
    "df = pd.read_csv(data_url, index_col=0, dtype=dtype)\n",
    "df.head()"
   ]
  },
  {
   "cell_type": "markdown",
   "metadata": {},
   "source": [
    "The next step is to determine what this wildfire data means so that we can perform exploration. \n",
    "Luckily, the [README](https://github.com/UCIDataScienceInitiative/Climate_Hackathon/blob/master/west_coast_fires/README.md) for the GitHub repository provides us with a description of each column:\n",
    "\n",
    "- `id`: unique identifier of the fire in the overall context of the world dataset\n",
    "- `confidence`: how much confidence the satellite has that this is actually a fire detection (percent)\n",
    "- `day`: the day of the month\n",
    "- `frp`: Fire Radiative Power, the strength of the fire\n",
    "- `lat`: latitude\n",
    "- `lon`: longitude\n",
    "- `month`: month of the year\n",
    "- `year`: year\n",
    "- `x`: x position in a uniformly-spaced grid\n",
    "- `y`: y position in a uniformly-spaced grid\n",
    "- `dayofyear`: day of the year (from 0 to 364 or 365 for leap years)\n",
    "- `vpd`: [Vapor Pressure Deficit](https://en.wikipedia.org/wiki/Vapour-pressure_deficit), the difference between the moisture in the air and the amount of moisture the air could hold\n",
    "- `temp`: temperature (degrees Kelvin)\n",
    "- `humidity`: humidity (percent)\n"
   ]
  },
  {
   "cell_type": "markdown",
   "metadata": {},
   "source": [
    "## Exploration"
   ]
  },
  {
   "cell_type": "markdown",
   "metadata": {},
   "source": [
    "To begin our exploration, we can look at the distributions of some of our variables. \n",
    "\n",
    "To visualize data, we can load helpful python visualization packages:\n",
    "- `matplotlib`\n",
    "- `seaborn`"
   ]
  },
  {
   "cell_type": "code",
   "execution_count": 3,
   "metadata": {},
   "outputs": [],
   "source": [
    "import matplotlib\n",
    "import matplotlib.pyplot as plt\n",
    "from matplotlib import cm\n",
    "import seaborn as sns"
   ]
  },
  {
   "cell_type": "markdown",
   "metadata": {},
   "source": [
    "First we will look at the distribution of the confidence variable. This variable represents how confident we are that the satellite has correctly classified a specific image as a wildfire. This distribution will give us some insight into how much we can trust the results of our analysis."
   ]
  },
  {
   "cell_type": "code",
   "execution_count": 4,
   "metadata": {},
   "outputs": [
    {
     "data": {
      "image/png": "[encoded data removed]",
      "text/plain": [
       "<Figure size 432x288 with 1 Axes>"
      ]
     },
     "metadata": {
      "needs_background": "light"
     },
     "output_type": "display_data"
    }
   ],
   "source": [
    "_ = plt.title(\"Distribution of Confidence\")\n",
    "_ = plt.xlabel(\"Confidence\")\n",
    "_ = plt.ylabel(\"Count\")\n",
    "_ = plt.xlim(0.0, 1.0)\n",
    "_ = plt.hist(df['confidence'].values)"
   ]
  },
  {
   "cell_type": "markdown",
   "metadata": {},
   "source": [
    "This distribution of confidence is left-skewed and its mode seems to lie between 0.9 and 1.0. Based on this distribution, it looks like we can be confident in our analysis that the majority of our data points truly represent wildfires."
   ]
  },
  {
   "cell_type": "markdown",
   "metadata": {},
   "source": [
    "Next, we can look at the Fire Radiative Power variable's distribution to get a sense of how strong fires were between 2010 and 2016."
   ]
  },
  {
   "cell_type": "code",
   "execution_count": 5,
   "metadata": {},
   "outputs": [
    {
     "data": {
      "image/png": "[encoded data removed]",
      "text/plain": [
       "<Figure size 432x288 with 1 Axes>"
      ]
     },
     "metadata": {
      "needs_background": "light"
     },
     "output_type": "display_data"
    }
   ],
   "source": [
    "_ = plt.title(\"Distribution of Fire Radiative Power\")\n",
    "_ = plt.xlabel(\"Fire Radiative Power\")\n",
    "_ = plt.ylabel(\"Count\")\n",
    "_ = plt.hist(df['frp'].values)"
   ]
  },
  {
   "cell_type": "markdown",
   "metadata": {},
   "source": [
    "This plot is not very helpful. We can tell that the overwhelming amount of our data points come from fires with low FRP values, but there are clearly some outliers that are not visible on this plot. Perhaps if we log scale the y-axis it will be more informative."
   ]
  },
  {
   "cell_type": "code",
   "execution_count": 6,
   "metadata": {
    "scrolled": true
   },
   "outputs": [
    {
     "data": {
      "image/png": "[encoded data removed]",
      "text/plain": [
       "<Figure size 432x288 with 1 Axes>"
      ]
     },
     "metadata": {
      "needs_background": "light"
     },
     "output_type": "display_data"
    }
   ],
   "source": [
    "_ = plt.title(\"Distribution of Fire Radiative Power\")\n",
    "_ = plt.xlabel(\"Fire Radiative Power\")\n",
    "_ = plt.ylabel(\"log(Count)\")\n",
    "_ = plt.hist(df['frp'].values, log=True)"
   ]
  },
  {
   "cell_type": "markdown",
   "metadata": {},
   "source": [
    "We can create these same histograms for the `vpd`, `temp`, and `humidity` variables:"
   ]
  },
  {
   "cell_type": "code",
   "execution_count": 10,
   "metadata": {},
   "outputs": [
    {
     "data": {
      "image/png": "[encoded data removed]",
      "text/plain": [
       "<Figure size 432x288 with 1 Axes>"
      ]
     },
     "metadata": {
      "needs_background": "light"
     },
     "output_type": "display_data"
    }
   ],
   "source": [
    "_ = plt.title(\"Distribution of Vapor Pressure Deficit\")\n",
    "_ = plt.xlabel(\"Vapor Pressure Deficit\")\n",
    "_ = plt.ylabel(\"Count\")\n",
    "_ = plt.hist(df['vpd'].values)"
   ]
  },
  {
   "cell_type": "code",
   "execution_count": 12,
   "metadata": {},
   "outputs": [
    {
     "data": {
      "image/png": "[encoded data removed]",
      "text/plain": [
       "<Figure size 432x288 with 1 Axes>"
      ]
     },
     "metadata": {
      "needs_background": "light"
     },
     "output_type": "display_data"
    }
   ],
   "source": [
    "_ = plt.title(\"Distribution of Temperature\")\n",
    "_ = plt.xlabel(\"Temperature (degrees Kelvin)\")\n",
    "_ = plt.ylabel(\"Count\")\n",
    "_ = plt.hist(df['temp'].values)"
   ]
  },
  {
   "cell_type": "code",
   "execution_count": 13,
   "metadata": {},
   "outputs": [
    {
     "data": {
      "image/png": "[encoded data removed]",
      "text/plain": [
       "<Figure size 432x288 with 1 Axes>"
      ]
     },
     "metadata": {
      "needs_background": "light"
     },
     "output_type": "display_data"
    }
   ],
   "source": [
    "_ = plt.title(\"Distribution of humidity\")\n",
    "_ = plt.xlabel(\"Humidity (percent)\")\n",
    "_ = plt.ylabel(\"Count\")\n",
    "_ = plt.hist(df['humidity'].values)"
   ]
  },
  {
   "cell_type": "markdown",
   "metadata": {},
   "source": [
    "Next, we can look at the distribution over time using the `year` variable. To create this histogram we will want to bin by year rather than allowing matplotlib to choose the bins automatically, so we can use pandas `groupby` to get the counts per year explicitly:"
   ]
  },
  {
   "cell_type": "code",
   "execution_count": null,
   "metadata": {},
   "outputs": [],
   "source": [
    "year_df = df.groupby(['year']).size().reset_index(name='count')\n",
    "year_df.head()"
   ]
  },
  {
   "cell_type": "markdown",
   "metadata": {},
   "source": [
    "Note that now that we have the explicit counts we can use the matplotlib `bar` rather than `hist`."
   ]
  },
  {
   "cell_type": "code",
   "execution_count": null,
   "metadata": {
    "scrolled": true
   },
   "outputs": [],
   "source": [
    "_ = plt.title(\"Distribution of Year\")\n",
    "_ = plt.xlabel(\"Year\")\n",
    "_ = plt.ylabel(\"Count\")\n",
    "_ = plt.bar(year_df['year'].values, year_df['count'].values, 0.65)"
   ]
  },
  {
   "cell_type": "markdown",
   "metadata": {},
   "source": [
    "Next, we can look at the distribution over the year using the `dayofyear` variable."
   ]
  },
  {
   "cell_type": "code",
   "execution_count": null,
   "metadata": {
    "scrolled": true
   },
   "outputs": [],
   "source": [
    "_ = plt.title(\"Distribution of Day of Year\")\n",
    "_ = plt.xlabel(\"Day of Year\")\n",
    "_ = plt.ylabel(\"Count\")\n",
    "_ = plt.hist(df['dayofyear'].values)"
   ]
  },
  {
   "cell_type": "markdown",
   "metadata": {},
   "source": [
    "This plot shows that our distribution is fairly symmetric and unimodal, centered around day 225/365. But maybe the distribution will be more clear if we are able to view the month and day of the month variables at the same time. To do so, we will need to manipulate our data a little bit using pandas `groupby`."
   ]
  },
  {
   "cell_type": "code",
   "execution_count": null,
   "metadata": {},
   "outputs": [],
   "source": [
    "time_df = df.groupby(['day', 'month']).size().reset_index(name='count')\n",
    "time_df.head()"
   ]
  },
  {
   "cell_type": "markdown",
   "metadata": {},
   "source": [
    "We will need to import python's `datetime` to help with date formatting."
   ]
  },
  {
   "cell_type": "code",
   "execution_count": null,
   "metadata": {},
   "outputs": [],
   "source": [
    "import datetime"
   ]
  },
  {
   "cell_type": "markdown",
   "metadata": {},
   "source": [
    "`datetime` can be used to format our month numbers into month names by creating a date object with our month number and then specifying an output date string format that only consists of the month name."
   ]
  },
  {
   "cell_type": "code",
   "execution_count": null,
   "metadata": {},
   "outputs": [],
   "source": [
    "def month_num_to_name(month_num):\n",
    "    date = datetime.date(2018, month_num, 1)\n",
    "    return date.strftime('%B')"
   ]
  },
  {
   "cell_type": "code",
   "execution_count": null,
   "metadata": {},
   "outputs": [],
   "source": [
    "_ = plt.figure(figsize=(14, 10))\n",
    "_ = plt.title(\"Distribution of Date\")\n",
    "_ = plt.xlabel(\"Month of Year\")\n",
    "_ = plt.ylabel(\"Count\")\n",
    "bar_width = 0.65\n",
    "ax_per_day = {}\n",
    "for day in time_df['day'].unique():\n",
    "    day_df = time_df.loc[time_df['day'] == day].copy()\n",
    "    day_df['month'] = day_df['month'].apply(month_num_to_name)\n",
    "    ax_per_day[day] = plt.bar(day_df['month'].values, day_df['count'].values, bar_width)\n",
    "    \n",
    "_ = plt.legend([ax[0] for ax in ax_per_day.values()], ax_per_day.keys(), title=\"Day of Month\", loc='upper left')"
   ]
  },
  {
   "cell_type": "markdown",
   "metadata": {},
   "source": [
    "Finally we can look at the entire span of time from 2010 to 2016 and count the fires observed each month."
   ]
  },
  {
   "cell_type": "code",
   "execution_count": null,
   "metadata": {},
   "outputs": [],
   "source": [
    "year_month_df = df.groupby(['year', 'month']).size().reset_index(name='count')\n",
    "year_month_df['year-month'] = year_month_df.apply(lambda row: (\"%s %i\" % (month_num_to_name(row['month']), row['year'])), axis='columns')\n",
    "year_month_df.head()"
   ]
  },
  {
   "cell_type": "code",
   "execution_count": null,
   "metadata": {},
   "outputs": [],
   "source": [
    "_ = plt.figure(figsize=(14, 6))\n",
    "_ = plt.title(\"Distribution of Year and Month\")\n",
    "_ = plt.xlabel(\"Year and Month\")\n",
    "_ = plt.ylabel(\"Count\")\n",
    "_ = plt.bar(year_month_df['year-month'].values, year_month_df['count'].values, 0.65)\n",
    "_ = plt.xticks(year_month_df['year-month'].values[::3], rotation=70)"
   ]
  },
  {
   "cell_type": "markdown",
   "metadata": {},
   "source": [
    "Because this wildfire data also contains location data, we can view it on a map as well."
   ]
  },
  {
   "cell_type": "code",
   "execution_count": null,
   "metadata": {},
   "outputs": [],
   "source": []
  }
 ],
 "metadata": {
  "kernelspec": {
   "display_name": "Python 3",
   "language": "python",
   "name": "python3"
  },
  "language_info": {
   "codemirror_mode": {
    "name": "ipython",
    "version": 3
   },
   "file_extension": ".py",
   "mimetype": "text/x-python",
   "name": "python",
   "nbconvert_exporter": "python",
   "pygments_lexer": "ipython3",
   "version": "3.7.1"
  }
 },
 "nbformat": 4,
 "nbformat_minor": 2
}
