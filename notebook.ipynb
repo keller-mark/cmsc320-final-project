{
 "cells": [
  {
   "cell_type": "markdown",
   "metadata": {},
   "source": [
    "# Final Project Title Here\n",
    "### Subtitle Here\n",
    "\n",
    "Mark Keller<br>\n",
    "CMSC320<br>\n",
    "Final Tutorial Project<br>\n",
    "29 November 2018"
   ]
  },
  {
   "cell_type": "markdown",
   "metadata": {},
   "source": [
    "#### Table of Contents\n",
    "1. [Introduction](#introduction)\n",
    "2. [Data](#data)\n",
    "3. Exploration\n",
    "4. Regression Analysis\n",
    "5. Classification Analysis\n",
    "6. Conclusions\n",
    "7. Caveats\n"
   ]
  },
  {
   "cell_type": "markdown",
   "metadata": {},
   "source": [
    "## Introduction"
   ]
  },
  {
   "cell_type": "markdown",
   "metadata": {},
   "source": [
    "For the past few weeks, the Camp Fire in Northern California has been a deadly and destructive force, recieving enormous media coverage. \n",
    "This deadly wildfire that began on November 8, 2018 has left [85 people dead, 249 missing, and destroyed thousands of buildings](https://www.usatoday.com/story/news/nation/2018/11/25/california-wildfire-camp-fire-contained/2107829002/).\n",
    "It has resulted in major air quality issues, causing many to [wear masks](https://www.washingtonpost.com/nation/2018/11/17/behold-latest-sign-apocalypse-air-mask-selfies-fire-ravaged-california/?utm_term=.fe6d94c1991f) or [stay indoors](https://www.wired.com/story/smoke-from-wildfires-is-a-growing-public-health-crisis-for-cities/) to protect their health.\n",
    "But this is not the first time a major wildfire has ravaged the west coast of the United States.\n",
    "\n",
    "In this tutorial, we will analyze west coast wildfire data from 2010 to 2016, available through the University of California Irvine Data Science Initiative GitHub organization [here](https://github.com/UCIDataScienceInitiative/Climate_Hackathon/tree/master/west_coast_fires). This data has been obtained through the NASA [Moderate Resolution Imaging Spectroradiometer](https://en.wikipedia.org/wiki/Moderate_Resolution_Imaging_Spectroradiometer) (MODIS) satellite. We will begin by loading the data and performing exploratory data analysis before diving deeper into regression analysis and classification analysis using basic machine learning methods. These data science methods will allow us to look at past trends and make inferences about future west coast wildfires."
   ]
  },
  {
   "cell_type": "markdown",
   "metadata": {},
   "source": [
    "## Data"
   ]
  },
  {
   "cell_type": "markdown",
   "metadata": {},
   "source": [
    "We will begin by importing Python packages that will help us to load and wrangle the data:\n",
    "- `pandas`: a package that allows us to build data frames, a tabular data format that can be thought of like a spreadsheet\n",
    "- `numpy`: a package containing matrix and vector mathematical functions"
   ]
  },
  {
   "cell_type": "code",
   "execution_count": 2,
   "metadata": {},
   "outputs": [],
   "source": [
    "import pandas as pd\n",
    "import numpy as np"
   ]
  },
  {
   "cell_type": "markdown",
   "metadata": {},
   "source": [
    "The wildfire dataset is contained in a comma-separated values file (CSV) located on GitHub. Pandas has a `read_csv` function that allows us to load a data frame from a CSV over the web. We will specify the data types of each column using a python `dict` to ensure that pandas loads the data using the data types that we will want to use in our analysis."
   ]
  },
  {
   "cell_type": "code",
   "execution_count": 6,
   "metadata": {},
   "outputs": [
    {
     "data": {
      "text/html": [
       "<div>\n",
       "<style scoped>\n",
       "    .dataframe tbody tr th:only-of-type {\n",
       "        vertical-align: middle;\n",
       "    }\n",
       "\n",
       "    .dataframe tbody tr th {\n",
       "        vertical-align: top;\n",
       "    }\n",
       "\n",
       "    .dataframe thead th {\n",
       "        text-align: right;\n",
       "    }\n",
       "</style>\n",
       "<table border=\"1\" class=\"dataframe\">\n",
       "  <thead>\n",
       "    <tr style=\"text-align: right;\">\n",
       "      <th></th>\n",
       "      <th>confidence</th>\n",
       "      <th>day</th>\n",
       "      <th>frp</th>\n",
       "      <th>lat</th>\n",
       "      <th>lon</th>\n",
       "      <th>month</th>\n",
       "      <th>year</th>\n",
       "      <th>x</th>\n",
       "      <th>y</th>\n",
       "      <th>dayofyear</th>\n",
       "      <th>vpd</th>\n",
       "      <th>temp</th>\n",
       "      <th>humidity</th>\n",
       "    </tr>\n",
       "    <tr>\n",
       "      <th>id</th>\n",
       "      <th></th>\n",
       "      <th></th>\n",
       "      <th></th>\n",
       "      <th></th>\n",
       "      <th></th>\n",
       "      <th></th>\n",
       "      <th></th>\n",
       "      <th></th>\n",
       "      <th></th>\n",
       "      <th></th>\n",
       "      <th></th>\n",
       "      <th></th>\n",
       "      <th></th>\n",
       "    </tr>\n",
       "  </thead>\n",
       "  <tbody>\n",
       "    <tr>\n",
       "      <th>10122</th>\n",
       "      <td>0.61</td>\n",
       "      <td>1</td>\n",
       "      <td>6.0</td>\n",
       "      <td>32.997</td>\n",
       "      <td>-110.765</td>\n",
       "      <td>1</td>\n",
       "      <td>2010</td>\n",
       "      <td>1336.853783</td>\n",
       "      <td>110.667</td>\n",
       "      <td>0</td>\n",
       "      <td>0.232254</td>\n",
       "      <td>271.10</td>\n",
       "      <td>55.8</td>\n",
       "    </tr>\n",
       "    <tr>\n",
       "      <th>10123</th>\n",
       "      <td>0.72</td>\n",
       "      <td>1</td>\n",
       "      <td>11.1</td>\n",
       "      <td>32.995</td>\n",
       "      <td>-110.777</td>\n",
       "      <td>1</td>\n",
       "      <td>2010</td>\n",
       "      <td>1335.747633</td>\n",
       "      <td>110.445</td>\n",
       "      <td>0</td>\n",
       "      <td>0.232254</td>\n",
       "      <td>271.10</td>\n",
       "      <td>55.8</td>\n",
       "    </tr>\n",
       "    <tr>\n",
       "      <th>13460</th>\n",
       "      <td>0.57</td>\n",
       "      <td>2</td>\n",
       "      <td>6.3</td>\n",
       "      <td>33.650</td>\n",
       "      <td>-113.735</td>\n",
       "      <td>1</td>\n",
       "      <td>2010</td>\n",
       "      <td>1056.936097</td>\n",
       "      <td>183.150</td>\n",
       "      <td>1</td>\n",
       "      <td>0.333371</td>\n",
       "      <td>272.70</td>\n",
       "      <td>43.6</td>\n",
       "    </tr>\n",
       "    <tr>\n",
       "      <th>13461</th>\n",
       "      <td>0.62</td>\n",
       "      <td>2</td>\n",
       "      <td>10.2</td>\n",
       "      <td>32.358</td>\n",
       "      <td>-114.922</td>\n",
       "      <td>1</td>\n",
       "      <td>2010</td>\n",
       "      <td>950.464277</td>\n",
       "      <td>39.738</td>\n",
       "      <td>1</td>\n",
       "      <td>0.158511</td>\n",
       "      <td>274.70</td>\n",
       "      <td>76.8</td>\n",
       "    </tr>\n",
       "    <tr>\n",
       "      <th>22139</th>\n",
       "      <td>0.56</td>\n",
       "      <td>3</td>\n",
       "      <td>14.4</td>\n",
       "      <td>33.415</td>\n",
       "      <td>-110.860</td>\n",
       "      <td>1</td>\n",
       "      <td>2010</td>\n",
       "      <td>1325.030866</td>\n",
       "      <td>157.065</td>\n",
       "      <td>2</td>\n",
       "      <td>0.159304</td>\n",
       "      <td>268.62</td>\n",
       "      <td>63.5</td>\n",
       "    </tr>\n",
       "  </tbody>\n",
       "</table>\n",
       "</div>"
      ],
      "text/plain": [
       "       confidence  day   frp     lat      lon  month  year            x  \\\n",
       "id                                                                        \n",
       "10122        0.61    1   6.0  32.997 -110.765      1  2010  1336.853783   \n",
       "10123        0.72    1  11.1  32.995 -110.777      1  2010  1335.747633   \n",
       "13460        0.57    2   6.3  33.650 -113.735      1  2010  1056.936097   \n",
       "13461        0.62    2  10.2  32.358 -114.922      1  2010   950.464277   \n",
       "22139        0.56    3  14.4  33.415 -110.860      1  2010  1325.030866   \n",
       "\n",
       "             y  dayofyear       vpd    temp  humidity  \n",
       "id                                                     \n",
       "10122  110.667          0  0.232254  271.10      55.8  \n",
       "10123  110.445          0  0.232254  271.10      55.8  \n",
       "13460  183.150          1  0.333371  272.70      43.6  \n",
       "13461   39.738          1  0.158511  274.70      76.8  \n",
       "22139  157.065          2  0.159304  268.62      63.5  "
      ]
     },
     "execution_count": 6,
     "metadata": {},
     "output_type": "execute_result"
    }
   ],
   "source": [
    "data_url = 'https://raw.githubusercontent.com/UCIDataScienceInitiative/Climate_Hackathon/master/west_coast_fires/fires.csv'\n",
    "dtype = {\n",
    "    'confidence': float,\n",
    "    'day': int,\n",
    "    'frp': float,\n",
    "    'lat': float,\n",
    "    'lon': float,\n",
    "    'month': int,\n",
    "    'year': int,\n",
    "    'x': float,\n",
    "    'y': float,\n",
    "    'dayofyear': int,\n",
    "    'vdp': float,\n",
    "    'temp': float,\n",
    "    'humidity': float\n",
    "}\n",
    "df = pd.read_csv(data_url, index_col=0, dtype=dtype)\n",
    "df.head()"
   ]
  },
  {
   "cell_type": "markdown",
   "metadata": {},
   "source": [
    "The next step is to determine what this wildfire data means so that we can perform exploration. \n",
    "Luckily, the [README](https://github.com/UCIDataScienceInitiative/Climate_Hackathon/blob/master/west_coast_fires/README.md) for the GitHub repository provides us with a description of each column:\n",
    "\n",
    "- `id`: unique identifier of the fire in the overall context of the world dataset\n",
    "- `confidence`: how much confidence the satellite has that this is actually a fire detection (percent)\n",
    "- `day`: the day of the month\n",
    "- `frp`: Fire Radiative Power, the strength of the fire\n",
    "- `lat`: latitude\n",
    "- `lon`: longitude\n",
    "- `month`: month of the year\n",
    "- `year`: year\n",
    "- `x`: x position in a uniformly-spaced grid\n",
    "- `y`: y position in a uniformly-spaced grid\n",
    "- `dayofyear`: day of the year (from 0 to 364 or 365 for leap years)\n",
    "- `vpd`: [Vapor Pressure Deficit](https://en.wikipedia.org/wiki/Vapour-pressure_deficit), the difference between the moisture in the air and the amount of moisture the air could hold\n",
    "- `temp`: temperature (degrees Kelvin)\n",
    "- `humidity`: humidity (percent)\n"
   ]
  },
  {
   "cell_type": "markdown",
   "metadata": {},
   "source": [
    "## Exploration"
   ]
  },
  {
   "cell_type": "markdown",
   "metadata": {},
   "source": [
    "To begin our exploration, we can look at the distributions of some of our variables. \n",
    "\n",
    "To visualize data, we can load helpful python visualization packages:\n",
    "- `matplotlib`\n",
    "- `seaborn`"
   ]
  },
  {
   "cell_type": "code",
   "execution_count": 7,
   "metadata": {},
   "outputs": [],
   "source": [
    "import matplotlib\n",
    "import matplotlib.pyplot as plt\n",
    "import seaborn as sns"
   ]
  },
  {
   "cell_type": "code",
   "execution_count": 10,
   "metadata": {},
   "outputs": [
    {
     "name": "stderr",
     "output_type": "stream",
     "text": [
      "/Users/markkeller/miniconda3/envs/cmsc320/lib/python3.6/site-packages/scipy/stats/stats.py:1713: FutureWarning: Using a non-tuple sequence for multidimensional indexing is deprecated; use `arr[tuple(seq)]` instead of `arr[seq]`. In the future this will be interpreted as an array index, `arr[np.array(seq)]`, which will result either in an error or a different result.\n",
      "  return np.add.reduce(sorted[indexer] * weights, axis=axis) / sumval\n"
     ]
    },
    {
     "data": {
      "text/plain": [
       "<matplotlib.axes._subplots.AxesSubplot at 0x11d544400>"
      ]
     },
     "execution_count": 10,
     "metadata": {},
     "output_type": "execute_result"
    },
    {
     "data": {
      "image/png": "[encoded data removed]",
      "text/plain": [
       "<Figure size 432x288 with 1 Axes>"
      ]
     },
     "metadata": {
      "needs_background": "light"
     },
     "output_type": "display_data"
    }
   ],
   "source": [
    "sns.distplot(df['confidence'])"
   ]
  },
  {
   "cell_type": "code",
   "execution_count": null,
   "metadata": {},
   "outputs": [],
   "source": []
  }
 ],
 "metadata": {
  "kernelspec": {
   "display_name": "Python 3",
   "language": "python",
   "name": "python3"
  },
  "language_info": {
   "codemirror_mode": {
    "name": "ipython",
    "version": 3
   },
   "file_extension": ".py",
   "mimetype": "text/x-python",
   "name": "python",
   "nbconvert_exporter": "python",
   "pygments_lexer": "ipython3",
   "version": "3.6.6"
  }
 },
 "nbformat": 4,
 "nbformat_minor": 2
}
